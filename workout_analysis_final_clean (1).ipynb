{
 "cells": [
  {
   "cell_type": "code",
   "execution_count": null,
   "id": "70baafb1",
   "metadata": {},
   "outputs": [],
   "source": [
    "import pandas as pd\n",
    "import seaborn as sns\n",
    "import matplotlib.pyplot as plt"
   ]
  },
  {
   "cell_type": "code",
   "execution_count": null,
   "id": "78655c50",
   "metadata": {},
   "outputs": [],
   "source": [
    "df = pd.read_csv(\"final_periodic_workout_data_23Mar_23Apr.csv\")\n",
    "df = df.dropna(subset=[\"Exercise\"])\n",
    "sns.set(style=\"whitegrid\")"
   ]
  },
  {
   "cell_type": "code",
   "execution_count": null,
   "id": "95023dcb",
   "metadata": {},
   "outputs": [
    {
     "data": {
      "image/png": ""
     },
     "metadata": {},
     "output_type": "display_data"
    }
   ],
   "source": [
    "plt.figure(figsize=(8,6))\n",
    "sns.scatterplot(data=df, x=\"Total Volume\", y=\"Caloric Expenditure (kcal)\", hue=\"Exercise\")\n",
    "plt.title(\"Scatter Plot: Total Volume vs Caloric Expenditure\")\n",
    "plt.show()"
   ]
  }
 ],
 "metadata": {},
 "nbformat": 4,
 "nbformat_minor": 5
}
