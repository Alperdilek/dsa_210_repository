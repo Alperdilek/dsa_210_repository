{
 "cells": [
  {
   "cell_type": "code",
   "execution_count": null,
   "id": "a2319d83",
   "metadata": {},
   "outputs": [],
   "source": [
    "import pandas as pd\n",
    "import seaborn as sns\n",
    "import matplotlib.pyplot as plt"
   ]
  },
  {
   "cell_type": "code",
   "execution_count": null,
   "id": "781e0cac",
   "metadata": {},
   "outputs": [],
   "source": [
    "df = pd.read_csv(\"final_periodic_workout_data_23Mar_23Apr.csv\")\n",
    "df = df.dropna(subset=[\"Exercise\"])\n",
    "sns.set(style=\"whitegrid\")"
   ]
  },
  {
   "cell_type": "code",
   "execution_count": null,
   "id": "c64368c3",
   "metadata": {},
   "outputs": [],
   "source": [
    "plt.figure(figsize=(8,6))\n",
    "sns.scatterplot(data=df, x=\"Total Volume\", y=\"Caloric Expenditure (kcal)\", hue=\"Exercise\")\n",
    "plt.title(\"Scatter Plot: Total Volume vs Caloric Expenditure\")\n",
    "plt.show()"
   ]
  }
 ],
 "metadata": {},
 "nbformat": 4,
 "nbformat_minor": 5
}
