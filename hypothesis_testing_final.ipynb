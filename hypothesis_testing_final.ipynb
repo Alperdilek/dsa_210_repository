{
 "cells": [
  {
   "cell_type": "code",
   "execution_count": null,
   "id": "aa3aba4a",
   "metadata": {},
   "outputs": [],
   "source": [
    "import pandas as pd\n",
    "import matplotlib.pyplot as plt\n",
    "import seaborn as sns\n",
    "from scipy import stats"
   ]
  },
  {
   "cell_type": "code",
   "execution_count": null,
   "id": "52a88ec9",
   "metadata": {},
   "outputs": [],
   "source": [
    "# Load dataset\n",
    "df = pd.read_csv(\"final_periodic_workout_data_23Mar_23Apr.csv\")\n",
    "df = df.dropna(subset=[\"Exercise\"])\n",
    "df[\"Total Volume\"] = df[\"Weight Load (kg)\"] * df[\"Repetition Count\"]"
   ]
  },
  {
   "cell_type": "code",
   "execution_count": null,
   "id": "df1e1850",
   "metadata": {},
   "outputs": [],
   "source": [
    "# Hypothesis test\n",
    "slope, intercept, r_value, p_value, std_err = stats.linregress(\n",
    "    df[\"Total Volume\"], df[\"Caloric Expenditure (kcal)\"]\n",
    ")\n",
    "\n",
    "print(f\"Slope: {slope:.4f}\")\n",
    "print(f\"Intercept: {intercept:.4f}\")\n",
    "print(f\"R-squared: {r_value**2:.4f}\")\n",
    "print(f\"P-value: {p_value:.4e}\")\n",
    "print(f\"Standard Error: {std_err:.4f}\")"
   ]
  },
  {
   "cell_type": "code",
   "execution_count": null,
   "id": "d677bdc2",
   "metadata": {},
   "outputs": [],
   "source": [
    "# Plot\n",
    "sns.set(style=\"whitegrid\")\n",
    "plt.figure(figsize=(8, 6))\n",
    "sns.regplot(\n",
    "    data=df,\n",
    "    x=\"Total Volume\",\n",
    "    y=\"Caloric Expenditure (kcal)\",\n",
    "    scatter_kws={\"s\": 40},\n",
    "    line_kws={\"color\": \"red\"}\n",
    ")\n",
    "plt.title(\"Regression: Total Volume vs Caloric Expenditure\")\n",
    "plt.tight_layout()\n",
    "plt.show()"
   ]
  }
 ],
 "metadata": {},
 "nbformat": 4,
 "nbformat_minor": 5
}
